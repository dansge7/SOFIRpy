{
 "cells": [
  {
   "cell_type": "markdown",
   "source": [
    "# Simple DC-Motor Control - Workflow\r\n",
    " Instead of calling each function individually for the fmu export, simulation and data storage, a predefined workflow function can be used. Among other arguments, this function takes the path to a json file as an argument. All information for the simulation, the fmu export and the data storage are stored in this file."
   ],
   "metadata": {}
  },
  {
   "cell_type": "code",
   "execution_count": 1,
   "source": [
    "import os \r\n",
    "import sys\r\n",
    "sys.path.append(os.path.realpath('..//..')+ '/src')\r\n",
    "from workflow import workflow\r\n",
    "path_to_json = os.path.join(os.path.realpath(\".\"), \"workflow.json\")"
   ],
   "outputs": [],
   "metadata": {}
  },
  {
   "cell_type": "markdown",
   "source": [
    "Example json file:\r\n",
    "```json\r\n",
    "{\r\n",
    "    \"project directory\": \"C:\\\\Users\\\\Daniele\\\\Desktop\\\\Motor_Control1\",\r\n",
    "    \"dymola path\": \"C:\\\\Program Files\\\\Dymola 2018 FD01\\\\bin64\",\r\n",
    "    \"fmu export\": [\r\n",
    "        {\r\n",
    "            \"model name\": \"DC_Motor\",\r\n",
    "            \"modeling environment\": \"d\",\r\n",
    "            \"model directory\": \"C:\\\\Users\\\\Daniele\\\\Documents\\\\GitLab\\\\fair_sim_release\\\\fair_sim_release\\\\examples\\\\motor_control\",\r\n",
    "            \"packages\": [],\r\n",
    "            \"datasheet directory\": \"C:\\\\Users\\\\Daniele\\\\Documents\\\\GitLab\\\\fair_sim_release\\\\fair_sim_release\\\\examples\\\\motor_control\",\r\n",
    "            \"datasheets\": {\r\n",
    "                \"damper\": \"damper_datasheet\"\r\n",
    "            },\r\n",
    "            \"additional_parameters\": {\r\n",
    "                \"inertia.J\": 0.5\r\n",
    "            },\r\n",
    "            \"model_modifiers\": null,\r\n",
    "            \"store copy\": \"C:\\\\Users\\\\Daniele\\\\Documents\\\\GitLab\\\\fair_sim_release\\\\fair_sim_release\\\\examples\\\\motor_control\" // optional. If specified a copy of the fmu is stored in this directory.\r\n",
    "        }\r\n",
    "    ],\r\n",
    "    \"fmus\": [\r\n",
    "        {\r\n",
    "            \"model name\": \"DC_Motor\",\r\n",
    "            \"path\": \"C:\\\\Users\\\\Daniele\\\\Documents\\\\GitLab\\\\fair_sim_release\\\\fair_sim_release\\\\examples\\\\motor_control\\\\DC_0Motor.fmu\", // if fmu needs to be exported first, set path to null. If the key \"store copy\" is specified, the path is automatically updated.\r\n",
    "            \"connections\": [\r\n",
    "                {\r\n",
    "                    \"input name\": \"u\",\r\n",
    "                    \"connect to system\": \"pid\",\r\n",
    "                    \"connect to variable\": \"u\"\r\n",
    "                }\r\n",
    "            ]\r\n",
    "        }\r\n",
    "    ],\r\n",
    "    \"controls\": [\r\n",
    "        {\r\n",
    "            \"control name\": \"pid\",\r\n",
    "            \"connections\": [\r\n",
    "                {\r\n",
    "                    \"input name\": \"speed\",\r\n",
    "                    \"connect to system\": \"DC_Motor\",\r\n",
    "                    \"connect to variable\": \"y\"\r\n",
    "                }\r\n",
    "            ]\r\n",
    "        }\r\n",
    "    ],\r\n",
    "    \"record\": {\r\n",
    "        \"DC_Motor\": [\r\n",
    "            \"y\",\r\n",
    "            \"MotorTorque.tau\"\r\n",
    "        ],\r\n",
    "        \"pid\": [\r\n",
    "            \"u\"\r\n",
    "        ]\r\n",
    "    },\r\n",
    "    \"plots\": [ //variables that need to be plotted need to be listed in the key record. \r\n",
    "        {\r\n",
    "            \"x\": \"time\",\r\n",
    "            \"y\": [\r\n",
    "                \"DC_Motor.y\" // \"System_name.variable_name\"\r\n",
    "            ],\r\n",
    "            \"title\": \"Speed over time\",\r\n",
    "            \"y_label\": \"SPEED\",\r\n",
    "            \"x_label\": \"TIME\"\r\n",
    "        },\r\n",
    "        {\r\n",
    "            \"x\": \"time\",\r\n",
    "            \"y\": \"pid.u\",\r\n",
    "            \"title\": \"Voltage over time\",\r\n",
    "            \"y_label\": \"VOLTAGE\",\r\n",
    "            \"x_label\": \"TIME\"\r\n",
    "        }\r\n",
    "    ],\r\n",
    "    \"style_sheet_path\": \"C:\\\\Users\\\\Daniele\\\\Documents\\\\GitLab\\\\fair_sim_release\\\\fair_sim_release\\\\examples\\\\FST.mplstyle\",\r\n",
    "    \"save additional files\": [ //can be used to save additional files, e.g the modelica model\r\n",
    "        {\r\n",
    "            \"path\": \"C:\\\\Users\\\\Daniele\\\\Documents\\\\GitLab\\\\fair_sim_release\\\\fair_sim_release\\\\examples\\\\motor_control\\\\DC_Motor.mo\",\r\n",
    "            \"type\": \"model\", //type of the file for an appropriate pip assignment\r\n",
    "            \"pid\": true, // true if a pid should be generated, false if a pip should not be generated\r\n",
    "            \"group\": \"models\"   // name of the hdf5 group where the name of the file should be stored\r\n",
    "        },\r\n",
    "        {\r\n",
    "            \"path\": \"C:\\\\Users\\\\Daniele\\\\Documents\\\\GitLab\\\\fair_sim_release\\\\fair_sim_release\\\\examples\\\\motor_control\\\\discrete_pid.py\",\r\n",
    "            \"type\": \"code\",\r\n",
    "            \"pid\": false,\r\n",
    "            \"group\": \"code\"\r\n",
    "        },\r\n",
    "        {\r\n",
    "            \"path\": \"C:\\\\Users\\\\Daniele\\\\Documents\\\\GitLab\\\\fair_sim_release\\\\fair_sim_release\\\\examples\\\\motor_control\\\\damper_datasheet.json\",\r\n",
    "            \"type\": \"datasheet\",\r\n",
    "            \"pid\": true,\r\n",
    "            \"group\": \"datasheets\"\r\n",
    "        }\r\n",
    "    ]\r\n",
    "}\r\n",
    "```"
   ],
   "metadata": {}
  },
  {
   "cell_type": "markdown",
   "source": [
    "Create an instance of the control class and store it in a dictionary."
   ],
   "metadata": {}
  },
  {
   "cell_type": "code",
   "execution_count": 2,
   "source": [
    "from discrete_pid import PID\r\n",
    "pid = PID(0.0001, 3,20, 0.1, set_point = 100, u_max= 100, u_min= 0)\r\n",
    "control_classes = {\"pid\": pid} #{control class name as specified in the json file: instance of the class}"
   ],
   "outputs": [],
   "metadata": {}
  },
  {
   "cell_type": "markdown",
   "source": [
    "Define stop time, start time and execute the function. "
   ],
   "metadata": {}
  },
  {
   "cell_type": "code",
   "execution_count": 3,
   "source": [
    "stop_time = 10\r\n",
    "step_size = 1e-4\r\n",
    "workflow(path_to_json, stop_time, step_size, control_classes)"
   ],
   "outputs": [
    {
     "output_type": "stream",
     "name": "stdout",
     "text": [
      "Using existing hdf5 'hdf5_210913_212013.hdf5'\n",
      "Run_25 created\n",
      "FMU DC_0Motor.fmu initialized.\n",
      "The class 'PID' contains all the necessary methods.\n",
      "Starting Simulation...\n",
      "Simulation completed.\n"
     ]
    },
    {
     "output_type": "display_data",
     "data": {
      "image/png": "[encoded data removed]",
      "text/plain": [
       "<Figure size 432x288 with 1 Axes>"
      ]
     },
     "metadata": {
      "needs_background": "light"
     }
    },
    {
     "output_type": "display_data",
     "data": {
      "image/png": "[encoded data removed]",
      "text/plain": [
       "<Figure size 432x288 with 1 Axes>"
      ]
     },
     "metadata": {
      "needs_background": "light"
     }
    }
   ],
   "metadata": {}
  }
 ],
 "metadata": {
  "orig_nbformat": 4,
  "language_info": {
   "name": "python",
   "version": "3.9.1",
   "mimetype": "text/x-python",
   "codemirror_mode": {
    "name": "ipython",
    "version": 3
   },
   "pygments_lexer": "ipython3",
   "nbconvert_exporter": "python",
   "file_extension": ".py"
  },
  "kernelspec": {
   "name": "python3",
   "display_name": "Python 3.9.1 64-bit"
  },
  "interpreter": {
   "hash": "ebd68f0662309f13dd01b446a0ad4ca01ccb776ad70cb2b492241ff99c3d082e"
  }
 },
 "nbformat": 4,
 "nbformat_minor": 2
}